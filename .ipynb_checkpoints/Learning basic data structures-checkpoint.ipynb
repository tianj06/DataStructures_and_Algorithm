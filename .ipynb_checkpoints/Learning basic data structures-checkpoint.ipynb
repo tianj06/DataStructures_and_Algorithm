{
 "cells": [
  {
   "cell_type": "markdown",
   "metadata": {},
   "source": [
    "# 1. linked list\n",
    "\n",
    "Linked list is a string of nodes. Each node contains data, and pointer to next node (in single linked list), or points to both previous and next nodes (in double linked list).\n",
    "\n",
    "Linked list allows dynamic allocation of memory. Therefore, it is good to use when data size is not known before hand. \n",
    "ref: https://www.codefellows.org/blog/implementing-a-singly-linked-list-in-python"
   ]
  },
  {
   "cell_type": "markdown",
   "metadata": {},
   "source": [
    "##1.1 a simple example of node in the linked list"
   ]
  },
  {
   "cell_type": "code",
   "execution_count": 1,
   "metadata": {
    "collapsed": true
   },
   "outputs": [],
   "source": [
    "class Node(object):\n",
    "    def __init__(self, data=None, next_node=None):\n",
    "        self.data = data\n",
    "        self.next_node = next_node\n",
    "    \n",
    "    def get_data(self):\n",
    "        return self.data\n",
    "    \n",
    "    def get_next(self):\n",
    "        return self.next_node\n",
    "    \n",
    "    def set_data(self, newdata):\n",
    "        self.data = newdata\n",
    "    \n",
    "    def set_next(self, newnode):\n",
    "        self.next_node = newnode\n",
    "    "
   ]
  },
  {
   "cell_type": "markdown",
   "metadata": {},
   "source": [
    "##1.2 A simple implementation of a linked list includes the following methods:\n",
    "\n",
    "* Insert: inserts a node as new head\n",
    "* Size: returns size of list\n",
    "* Search: searches list for a node containing the requested data and returns that node if found, otherwise raises an error\n",
    "* Delete: searches list for a node containing the requested data and removes it from list if found, otherwise raises an error\n",
    "* Print: print the content of the list, for debug"
   ]
  },
  {
   "cell_type": "code",
   "execution_count": 2,
   "metadata": {
    "collapsed": true
   },
   "outputs": [],
   "source": [
    "class LinkedList(object):\n",
    "    def __init__(self, head=None):\n",
    "        self.head = head\n",
    "    \n",
    "    def insert_node(self, data):\n",
    "        newnode = Node(data,self.head)\n",
    "        self.head = newnode\n",
    "        \n",
    "    def get_size(self):\n",
    "        i = 0\n",
    "        current_node = self.head\n",
    "        while current_node:\n",
    "            current_node = current_node.get_next()\n",
    "            i += 1\n",
    "        return i\n",
    "    \n",
    "    def search_list(self, data):\n",
    "        current = self.head\n",
    "        while current:\n",
    "            if current.data == data:\n",
    "                return current\n",
    "            else:\n",
    "                current = current.get_next()\n",
    "        raise ValueError(\"Data not in list\")\n",
    "        return current\n",
    "    \n",
    "    def delete_node(self,data):\n",
    "        previous = self.head\n",
    "        current = previous.get_next()\n",
    "        if previous.data == data:\n",
    "            self.head = current\n",
    "            return \n",
    "        else: \n",
    "            while current:\n",
    "                if current.data == data:\n",
    "                    previous.set_next(current.get_next())\n",
    "                    current = None # clear cthe searched node from memory\n",
    "                    return \n",
    "                else:\n",
    "                    previous = current\n",
    "                    current = current.get_next()\n",
    "        raise ValueError(\"Data not in list\")\n",
    "        return current \n",
    "    \n",
    "    def print_list(self):\n",
    "        i=0\n",
    "        current_node = self.head\n",
    "        while current_node:\n",
    "            print 'Node id', i,' data =', current_node.data\n",
    "            current_node = current_node.get_next()\n",
    "            i+=1\n",
    "        return "
   ]
  },
  {
   "cell_type": "markdown",
   "metadata": {},
   "source": [
    "## Test the linked list code\n",
    "* add nodes to list\n",
    "* delete nodes\n",
    "* search the list"
   ]
  },
  {
   "cell_type": "code",
   "execution_count": 13,
   "metadata": {
    "collapsed": false
   },
   "outputs": [
    {
     "name": "stdout",
     "output_type": "stream",
     "text": [
      "<__main__.LinkedList object at 0x0000000003C9C6A0>\n"
     ]
    }
   ],
   "source": [
    "ll = LinkedList()\n",
    "for i in range(10):\n",
    "    ll.insert_node(i*100)"
   ]
  },
  {
   "cell_type": "code",
   "execution_count": 14,
   "metadata": {
    "collapsed": false
   },
   "outputs": [
    {
     "name": "stdout",
     "output_type": "stream",
     "text": [
      "Node id 0  data = 900\n",
      "Node id 1  data = 800\n",
      "Node id 2  data = 700\n",
      "Node id 3  data = 600\n",
      "Node id 4  data = 500\n",
      "Node id 5  data = 400\n",
      "Node id 6  data = 300\n",
      "Node id 7  data = 200\n",
      "Node id 8  data = 100\n",
      "Node id 9  data = 0\n"
     ]
    }
   ],
   "source": [
    "ll.print_list()"
   ]
  },
  {
   "cell_type": "code",
   "execution_count": 16,
   "metadata": {
    "collapsed": false
   },
   "outputs": [
    {
     "name": "stdout",
     "output_type": "stream",
     "text": [
      "500\n",
      "400\n"
     ]
    }
   ],
   "source": [
    "a = ll.search_list(500)\n",
    "print a.data\n",
    "print a.get_next().data"
   ]
  },
  {
   "cell_type": "code",
   "execution_count": 17,
   "metadata": {
    "collapsed": false
   },
   "outputs": [
    {
     "name": "stdout",
     "output_type": "stream",
     "text": [
      "Node id 0  data = 900\n",
      "Node id 1  data = 800\n",
      "Node id 2  data = 700\n",
      "Node id 3  data = 600\n",
      "Node id 4  data = 400\n",
      "Node id 5  data = 300\n",
      "Node id 6  data = 200\n",
      "Node id 7  data = 100\n",
      "Node id 8  data = 0\n"
     ]
    }
   ],
   "source": [
    "ll.delete_node(500)\n",
    "ll.print_list()"
   ]
  },
  {
   "cell_type": "code",
   "execution_count": 18,
   "metadata": {
    "collapsed": false
   },
   "outputs": [
    {
     "name": "stdout",
     "output_type": "stream",
     "text": [
      "Node id 0  data = 800\n",
      "Node id 1  data = 700\n",
      "Node id 2  data = 600\n",
      "Node id 3  data = 400\n",
      "Node id 4  data = 300\n",
      "Node id 5  data = 200\n",
      "Node id 6  data = 100\n",
      "Node id 7  data = 0\n"
     ]
    }
   ],
   "source": [
    "ll.delete_node(900) # test deleting the head\n",
    "ll.print_list()"
   ]
  },
  {
   "cell_type": "markdown",
   "metadata": {},
   "source": [
    "##1.3 Solve some algorithm problems on linked list structure\n",
    "###1.3.1 remove duplicates from an unsorted linked list"
   ]
  },
  {
   "cell_type": "code",
   "execution_count": 10,
   "metadata": {
    "collapsed": true
   },
   "outputs": [],
   "source": [
    "# method1: allow buffer case\n",
    "def remove_duplicates1(ll):\n",
    "    unique_value = list()\n",
    "    previous = None\n",
    "    current = ll.head\n",
    "    while current:\n",
    "        if current.data in unique_value:\n",
    "            previous.next_node = current.get_next()\n",
    "        else:\n",
    "            unique_value.append(current.data)\n",
    "            previous = current # notice the position of previous only change if current is not a duplicate\n",
    "        current = current.get_next() \n",
    "    return ll"
   ]
  },
  {
   "cell_type": "code",
   "execution_count": 7,
   "metadata": {
    "collapsed": true
   },
   "outputs": [],
   "source": [
    "# method2: no buffer allowed\n",
    "# one pointer stays, another pointer move forward to scan for duplicates\n",
    "def remove_duplicates2(ll):\n",
    "    p1 = ll.head\n",
    "    while p1:\n",
    "        p2 = p1.get_next()\n",
    "        p2_pre = p1 # p2_pre remember the previous node of p2\n",
    "        while p2:\n",
    "            if p2.data == p1.data:\n",
    "                p2_pre.next_node = p2.next_node\n",
    "            else:\n",
    "                p2_pre = p2\n",
    "            p2 = p2.next_node\n",
    "        p1 = p1.next_node\n",
    "    return ll"
   ]
  },
  {
   "cell_type": "code",
   "execution_count": 5,
   "metadata": {
    "collapsed": false
   },
   "outputs": [
    {
     "name": "stdout",
     "output_type": "stream",
     "text": [
      "Node id 0  data = 400\n",
      "Node id 1  data = 300\n",
      "Node id 2  data = 200\n",
      "Node id 3  data = 100\n",
      "Node id 4  data = 0\n",
      "Node id 5  data = 400\n",
      "Node id 6  data = 300\n",
      "Node id 7  data = 200\n",
      "Node id 8  data = 100\n",
      "Node id 9  data = 0\n"
     ]
    }
   ],
   "source": [
    "# create a linked list with duplicated values to test the function\n",
    "ll = LinkedList()\n",
    "for i in range(5)+range(5):\n",
    "    ll.insert_node(i*100)\n",
    "ll.print_list()"
   ]
  },
  {
   "cell_type": "code",
   "execution_count": 11,
   "metadata": {
    "collapsed": false
   },
   "outputs": [
    {
     "name": "stdout",
     "output_type": "stream",
     "text": [
      "Node id 0  data = 400\n",
      "Node id 1  data = 300\n",
      "Node id 2  data = 200\n",
      "Node id 3  data = 100\n",
      "Node id 4  data = 0\n"
     ]
    }
   ],
   "source": [
    "# test method1 function\n",
    "remove_duplicates1(ll).print_list()"
   ]
  },
  {
   "cell_type": "code",
   "execution_count": 9,
   "metadata": {
    "collapsed": false
   },
   "outputs": [
    {
     "name": "stdout",
     "output_type": "stream",
     "text": [
      "Node id 0  data = 400\n",
      "Node id 1  data = 300\n",
      "Node id 2  data = 200\n",
      "Node id 3  data = 100\n",
      "Node id 4  data = 0\n"
     ]
    }
   ],
   "source": [
    "# test method2 function\n",
    "remove_duplicates2(ll).print_list()"
   ]
  }
 ],
 "metadata": {
  "kernelspec": {
   "display_name": "Python 2",
   "language": "python",
   "name": "python2"
  },
  "language_info": {
   "codemirror_mode": {
    "name": "ipython",
    "version": 2
   },
   "file_extension": ".py",
   "mimetype": "text/x-python",
   "name": "python",
   "nbconvert_exporter": "python",
   "pygments_lexer": "ipython2",
   "version": "2.7.9"
  }
 },
 "nbformat": 4,
 "nbformat_minor": 0
}
